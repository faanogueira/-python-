{
  "nbformat": 4,
  "nbformat_minor": 0,
  "metadata": {
    "colab": {
      "provenance": [],
      "authorship_tag": "ABX9TyNZZtrdyjOklKKyMG9y2nG1",
      "include_colab_link": true
    },
    "kernelspec": {
      "name": "python3",
      "display_name": "Python 3"
    },
    "language_info": {
      "name": "python"
    }
  },
  "cells": [
    {
      "cell_type": "markdown",
      "metadata": {
        "id": "view-in-github",
        "colab_type": "text"
      },
      "source": [
        "<a href=\"https://colab.research.google.com/github/faanogueira/python.py/blob/main/Calculadora_de_Datas.ipynb\" target=\"_parent\"><img src=\"https://colab.research.google.com/assets/colab-badge.svg\" alt=\"Open In Colab\"/></a>"
      ]
    },
    {
      "cell_type": "markdown",
      "source": [
        "Desenvolva um programa que recebe do usuário nome completo e ano de nascimento que seja entre 1922 e 2021.\n",
        "A partir dessas informações, o sistema mostrará o nome do usuário e a idade que completou, ou completará, no ano atual (2024).\n",
        "\n",
        "Caso o usuário não digite um número ou apareça um inválido no campo do ano, o sistema informará o erro e continuará perguntando até que um valor correto seja preenchido."
      ],
      "metadata": {
        "id": "CeZZPBl3RObD"
      }
    },
    {
      "cell_type": "code",
      "execution_count": 1,
      "metadata": {
        "colab": {
          "base_uri": "https://localhost:8080/"
        },
        "id": "vd9DgkuBQ99V",
        "outputId": "5933eb86-a5e0-46df-8060-16a826165aa5"
      },
      "outputs": [
        {
          "output_type": "stream",
          "name": "stdout",
          "text": [
            "Digite seu nome completo: Fábio Nogueira\n",
            "Digite seu ano de nascimento (entre 1922 e 2021): 1982\n",
            "Fábio Nogueira, você completou ou completará 42 anos em 2022.\n",
            "Deseja inserir outro usuário? (s/n): n\n",
            "Saindo...\n"
          ]
        }
      ],
      "source": [
        "def calcular_idade():\n",
        "    while True:\n",
        "        nome = input(\"Digite seu nome completo: \")\n",
        "\n",
        "        while True:\n",
        "            try:\n",
        "                ano_nascimento = int(input(\"Digite seu ano de nascimento (entre 1922 e 2021): \"))\n",
        "                if 1922 <= ano_nascimento <= 2021:\n",
        "                    break\n",
        "                else:\n",
        "                    print(\"Erro: O ano deve estar entre 1922 e 2021.\")\n",
        "            except ValueError:\n",
        "                print(\"Erro: Por favor, insira um número válido.\")\n",
        "\n",
        "        idade = 2024 - ano_nascimento\n",
        "        print(f\"{nome}, você completou ou completará {idade} anos em 2024.\")\n",
        "\n",
        "        continuar = input(\"Deseja inserir outro usuário? (s/n): \").lower()\n",
        "        if continuar != 's':\n",
        "            print(\"Saindo...\")\n",
        "            break\n",
        "\n",
        "calcular_idade()\n"
      ]
    }
  ]
}