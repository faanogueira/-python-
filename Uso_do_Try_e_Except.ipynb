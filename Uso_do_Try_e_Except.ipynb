{
  "nbformat": 4,
  "nbformat_minor": 0,
  "metadata": {
    "colab": {
      "provenance": [],
      "authorship_tag": "ABX9TyPDOHNHI1jTOOKxmy6eLIhO",
      "include_colab_link": true
    },
    "kernelspec": {
      "name": "python3",
      "display_name": "Python 3"
    },
    "language_info": {
      "name": "python"
    }
  },
  "cells": [
    {
      "cell_type": "markdown",
      "metadata": {
        "id": "view-in-github",
        "colab_type": "text"
      },
      "source": [
        "<a href=\"https://colab.research.google.com/github/faanogueira/python.py/blob/main/Uso_do_Try_e_Except.ipynb\" target=\"_parent\"><img src=\"https://colab.research.google.com/assets/colab-badge.svg\" alt=\"Open In Colab\"/></a>"
      ]
    },
    {
      "cell_type": "code",
      "execution_count": 2,
      "metadata": {
        "colab": {
          "base_uri": "https://localhost:8080/"
        },
        "id": "ZKXeIecplEfb",
        "outputId": "0d3ab513-e6d7-4a7d-8001-94929ab03de7"
      },
      "outputs": [
        {
          "output_type": "stream",
          "name": "stdout",
          "text": [
            "Escreva um número menor que 100\n",
            "50\n",
            "Boa! Você escolheu o número: 50\n"
          ]
        }
      ],
      "source": [
        "  def mostrarNumero():\n",
        "    print(\"Escreva um número menor que 100\")\n",
        "\n",
        "    numero_valido = False\n",
        "\n",
        "    while(numero_valido == False):\n",
        "      try:\n",
        "        num = int(input())\n",
        "        if(num < 100):\n",
        "          print(\"Boa! Você escolheu o número: \" + str(num))\n",
        "          numero_valido = True\n",
        "        else:\n",
        "          print(\"Você precisa escolher um número menor do que 100.\")\n",
        "      except:\n",
        "          print(\"Você precisa escolher um número válido\")\n",
        "\n",
        "mostrarNumero()"
      ]
    },
    {
      "cell_type": "markdown",
      "source": [
        "Desafio 1:\n",
        "Verificar se o número informado é maior que 0"
      ],
      "metadata": {
        "id": "ttdz9QVcnGyc"
      }
    },
    {
      "cell_type": "code",
      "source": [
        "def mostrarNumero():\n",
        "  num = int(input(\"Digite um número \"))\n",
        "\n",
        "  if(num < 0):\n",
        "    print(\"Esse número é menor que zero\")\n",
        "  else:\n",
        "    print(\"Esse número é maior que zero\")\n",
        "\n",
        "mostrarNumero()\n"
      ],
      "metadata": {
        "colab": {
          "base_uri": "https://localhost:8080/"
        },
        "id": "KPWeddkBnm8Z",
        "outputId": "de39798b-d4de-4ab0-a2ad-0c3052b786b6"
      },
      "execution_count": 6,
      "outputs": [
        {
          "output_type": "stream",
          "name": "stdout",
          "text": [
            "Digite um número1\n",
            "Esse número é maior que zero\n"
          ]
        }
      ]
    },
    {
      "cell_type": "markdown",
      "source": [
        "Desafio 2:\n",
        "Verificar se o número é par"
      ],
      "metadata": {
        "id": "A7xnqmZPnnZT"
      }
    },
    {
      "cell_type": "code",
      "source": [
        "def mostrarNumero():\n",
        "  num = int(input(\"Digite um número \"))\n",
        "\n",
        "  if num % 2 == 0:\n",
        "    print(f\"{num} é par\")\n",
        "  else:\n",
        "    print(f\"{num} é ímpar\")\n",
        "\n",
        "mostrarNumero()"
      ],
      "metadata": {
        "colab": {
          "base_uri": "https://localhost:8080/"
        },
        "id": "v-4DivU_plRa",
        "outputId": "c3e555d3-95a3-4d4b-894e-b347c7f218b6"
      },
      "execution_count": 12,
      "outputs": [
        {
          "output_type": "stream",
          "name": "stdout",
          "text": [
            "Digite um número 2\n",
            "2 é par\n"
          ]
        }
      ]
    },
    {
      "cell_type": "markdown",
      "source": [
        "Dasafio 3: Verificar se o número é divisível por 2 e 3"
      ],
      "metadata": {
        "id": "xPLV78WzrBQS"
      }
    },
    {
      "cell_type": "code",
      "source": [
        "def mostrarNumero():\n",
        "  num = int(input(\"Digite um número \"))\n",
        "\n",
        "  if num % 2 == 0:\n",
        "    print(f\"{num} é um divisível por 2\")\n",
        "  elif num % 3 == 0:\n",
        "    print(f\"{num} é um divisível por 3\")\n",
        "  else:\n",
        "    print(f\"{num} não é um número dividido por 2 nem 3\")\n",
        "\n",
        "mostrarNumero()"
      ],
      "metadata": {
        "colab": {
          "base_uri": "https://localhost:8080/"
        },
        "id": "wNwgZAF2rHfh",
        "outputId": "fb109139-56f8-4c2a-be1f-ca72c14fce0b"
      },
      "execution_count": 15,
      "outputs": [
        {
          "output_type": "stream",
          "name": "stdout",
          "text": [
            "Digite um número 8\n",
            "8 é um divisível por 2\n"
          ]
        }
      ]
    }
  ]
}