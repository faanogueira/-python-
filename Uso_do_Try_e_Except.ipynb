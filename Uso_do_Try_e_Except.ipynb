{
  "nbformat": 4,
  "nbformat_minor": 0,
  "metadata": {
    "colab": {
      "provenance": [],
      "authorship_tag": "ABX9TyMyxfuR4xr3Q6Xz62/erVPx",
      "include_colab_link": true
    },
    "kernelspec": {
      "name": "python3",
      "display_name": "Python 3"
    },
    "language_info": {
      "name": "python"
    }
  },
  "cells": [
    {
      "cell_type": "markdown",
      "metadata": {
        "id": "view-in-github",
        "colab_type": "text"
      },
      "source": [
        "<a href=\"https://colab.research.google.com/github/faanogueira/python.py/blob/main/Uso_do_Try_e_Except.ipynb\" target=\"_parent\"><img src=\"https://colab.research.google.com/assets/colab-badge.svg\" alt=\"Open In Colab\"/></a>"
      ]
    },
    {
      "cell_type": "code",
      "execution_count": 2,
      "metadata": {
        "colab": {
          "base_uri": "https://localhost:8080/"
        },
        "id": "ZKXeIecplEfb",
        "outputId": "3a9e85c3-396e-423e-9733-ec55db271ad3"
      },
      "outputs": [
        {
          "output_type": "stream",
          "name": "stdout",
          "text": [
            "Escreva um número menor que 100\n",
            "10\n",
            "Boa! Você escolheu o número: 10\n"
          ]
        }
      ],
      "source": [
        "def mostrarNumero():\n",
        "    print(\"Escreva um número menor que 100\")\n",
        "\n",
        "    numero_valido = False\n",
        "\n",
        "    while(numero_valido == False):\n",
        "      try:\n",
        "        num = int(input())\n",
        "        if(num < 100):\n",
        "          print(\"Boa! Você escolheu o número: \" + str(num))\n",
        "          numero_valido = True\n",
        "        else:\n",
        "          print(\"Você precisa escolher um número menor do que 100.\")\n",
        "      except:\n",
        "          print(\"Você precisa escolher um número válido\")\n",
        "\n",
        "mostrarNumero()"
      ]
    },
    {
      "cell_type": "markdown",
      "source": [
        "Desafio 1:\n",
        "Verificar se o número informado é maior que 0"
      ],
      "metadata": {
        "id": "ttdz9QVcnGyc"
      }
    },
    {
      "cell_type": "code",
      "source": [
        "def mostrarNumero():\n",
        "  num = int(input(\"Digite um número \"))\n",
        "\n",
        "  if(num < 0):\n",
        "    print(\"Esse número é menor que zero\")\n",
        "  else:\n",
        "    print(\"Esse número é maior que zero\")\n",
        "\n",
        "mostrarNumero()\n"
      ],
      "metadata": {
        "colab": {
          "base_uri": "https://localhost:8080/"
        },
        "id": "KPWeddkBnm8Z",
        "outputId": "de39798b-d4de-4ab0-a2ad-0c3052b786b6"
      },
      "execution_count": 6,
      "outputs": [
        {
          "output_type": "stream",
          "name": "stdout",
          "text": [
            "Digite um número1\n",
            "Esse número é maior que zero\n"
          ]
        }
      ]
    },
    {
      "cell_type": "markdown",
      "source": [
        "Desafio 2:\n",
        "Verificar se o número é par"
      ],
      "metadata": {
        "id": "A7xnqmZPnnZT"
      }
    },
    {
      "cell_type": "code",
      "source": [
        "def mostrarNumero():\n",
        "  num = int(input(\"Digite um número \"))\n",
        "\n",
        "  if num % 2 == 0:\n",
        "    print(f\"{num} é par\")\n",
        "  else:\n",
        "    print(f\"{num} é ímpar\")\n",
        "\n",
        "mostrarNumero()"
      ],
      "metadata": {
        "colab": {
          "base_uri": "https://localhost:8080/"
        },
        "id": "v-4DivU_plRa",
        "outputId": "c3e555d3-95a3-4d4b-894e-b347c7f218b6"
      },
      "execution_count": 12,
      "outputs": [
        {
          "output_type": "stream",
          "name": "stdout",
          "text": [
            "Digite um número 2\n",
            "2 é par\n"
          ]
        }
      ]
    },
    {
      "cell_type": "markdown",
      "source": [
        "Dasafio 3: Verificar se o número é divisível por 2 e 3"
      ],
      "metadata": {
        "id": "xPLV78WzrBQS"
      }
    },
    {
      "cell_type": "code",
      "source": [
        "def mostrarNumero():\n",
        "\n",
        "  sair = False\n",
        "\n",
        "  while(sair == False):\n",
        "    try:\n",
        "\n",
        "      num = int(input(\"Digite um número \"))\n",
        "      if num % 2 != 0 and num % 3 != 0:\n",
        "        print(f\"{num} não é um número dividido por 2 nem 3\")\n",
        "      else:\n",
        "        print(f\"{num} é um número dividido por 2 ou 3\")\n",
        "        sair = True\n",
        "\n",
        "    except:\n",
        "      print(\"Você precisa escolher um número válido\")\n",
        "\n",
        "\n",
        "mostrarNumero()"
      ],
      "metadata": {
        "colab": {
          "base_uri": "https://localhost:8080/"
        },
        "id": "G04JImCZv6L4",
        "outputId": "7e5b9cb7-2904-48bf-bf38-4f710aadc486"
      },
      "execution_count": 1,
      "outputs": [
        {
          "output_type": "stream",
          "name": "stdout",
          "text": [
            "Digite um número 17\n",
            "17 não é um número dividido por 2 nem 3\n",
            "Digite um número a\n",
            "Você precisa escolher um número válido\n",
            "Digite um número 12\n",
            "12 é um número dividido por 2 ou 3\n"
          ]
        }
      ]
    }
  ]
}