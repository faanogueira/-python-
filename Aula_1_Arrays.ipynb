{
  "nbformat": 4,
  "nbformat_minor": 0,
  "metadata": {
    "colab": {
      "provenance": [],
      "authorship_tag": "ABX9TyOwKzsFNvyI9SeK5eRJGfO7",
      "include_colab_link": true
    },
    "kernelspec": {
      "name": "python3",
      "display_name": "Python 3"
    },
    "language_info": {
      "name": "python"
    }
  },
  "cells": [
    {
      "cell_type": "markdown",
      "metadata": {
        "id": "view-in-github",
        "colab_type": "text"
      },
      "source": [
        "<a href=\"https://colab.research.google.com/github/faanogueira/python.py/blob/main/Aula_1_Arrays.ipynb\" target=\"_parent\"><img src=\"https://colab.research.google.com/assets/colab-badge.svg\" alt=\"Open In Colab\"/></a>"
      ]
    },
    {
      "cell_type": "markdown",
      "source": [
        "Declare dois arrays, cada um com um mínimo de cinco elementos, e imprima eles no terminal usando o comando print(). O primeiro array deve conter os produtos de uma loja da sua escolha (loja de comida, materiais de construção, música, etc). O segundo array deve conter os anos de nascimento de familiares e amigos seus. Lembre-se de usar nomes descritivos para nomear cada variável, e de usar o tipo de dado apropriado para cada lista (strings, booleanos, números inteiros, floats)."
      ],
      "metadata": {
        "id": "S4lq_e8w_CEZ"
      }
    },
    {
      "cell_type": "code",
      "execution_count": 1,
      "metadata": {
        "colab": {
          "base_uri": "https://localhost:8080/"
        },
        "id": "yWfFAWSd-3C2",
        "outputId": "bbf3e36d-7e8d-49e7-a7d0-db7dd5a6bc52"
      },
      "outputs": [
        {
          "output_type": "stream",
          "name": "stdout",
          "text": [
            "Produtos Musicais: ['Guitarra', 'Bateria', 'Teclado', 'Violino', 'Microfone']\n",
            "Anos de Nascimento: [1985, 1990, 1995, 2000, 2005]\n"
          ]
        }
      ],
      "source": [
        "# Array contendo produtos de uma loja de música\n",
        "produtos_musicais = [\"Guitarra\", \"Bateria\", \"Teclado\", \"Violino\", \"Microfone\"]\n",
        "\n",
        "# Array contendo anos de nascimento de familiares e amigos\n",
        "anos_nascimento = [1985, 1990, 1995, 2000, 2005]\n",
        "\n",
        "# Imprimindo os arrays no terminal\n",
        "print(\"Produtos Musicais:\", produtos_musicais)\n",
        "print(\"Anos de Nascimento:\", anos_nascimento)\n"
      ]
    }
  ]
}