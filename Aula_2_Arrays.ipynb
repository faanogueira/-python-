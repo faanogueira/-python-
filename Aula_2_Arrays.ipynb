{
  "nbformat": 4,
  "nbformat_minor": 0,
  "metadata": {
    "colab": {
      "provenance": [],
      "authorship_tag": "ABX9TyNLGqBoxrqAqcBblC65wC2R",
      "include_colab_link": true
    },
    "kernelspec": {
      "name": "python3",
      "display_name": "Python 3"
    },
    "language_info": {
      "name": "python"
    }
  },
  "cells": [
    {
      "cell_type": "markdown",
      "metadata": {
        "id": "view-in-github",
        "colab_type": "text"
      },
      "source": [
        "<a href=\"https://colab.research.google.com/github/faanogueira/python.py/blob/main/Aula_2_Arrays.ipynb\" target=\"_parent\"><img src=\"https://colab.research.google.com/assets/colab-badge.svg\" alt=\"Open In Colab\"/></a>"
      ]
    },
    {
      "cell_type": "markdown",
      "source": [
        "Copie o array apresentado embaixo no seu editor de código, e imprima no terminal: a quantidade de elementos que ele possui, o dado salvo no índice 2, o dado salvo no índice 9, e dado salvo no índice 14.\n",
        "\n",
        "lista_musicos = [ 'Djavan', 'Roberto Carlos', 'Elis Regina', 'Tom Jobim', 'Milton Nascimento', 'Chico Buarque', 'Nara Leão', 'Pitty', 'Simonal', 'Moacir Santos', 'Caetano Veloso', 'Elza Soares', 'Paulinho da Viola', 'Yamandú Costa', 'Gal Costa']"
      ],
      "metadata": {
        "id": "hNYwrJeLAB2s"
      }
    },
    {
      "cell_type": "code",
      "execution_count": 1,
      "metadata": {
        "colab": {
          "base_uri": "https://localhost:8080/"
        },
        "id": "UaQIhNiK_-98",
        "outputId": "ebd07477-471e-46d5-ac4b-1d9d50ca656c"
      },
      "outputs": [
        {
          "output_type": "stream",
          "name": "stdout",
          "text": [
            "Quantidade de elementos: 15\n",
            "Elemento no índice 2: Elis Regina\n",
            "Elemento no índice 9: Moacir Santos\n",
            "Elemento no índice 14: Gal Costa\n"
          ]
        }
      ],
      "source": [
        "# Array de músicos\n",
        "lista_musicos = ['Djavan', 'Roberto Carlos', 'Elis Regina', 'Tom Jobim', 'Milton Nascimento',\n",
        "                 'Chico Buarque', 'Nara Leão', 'Pitty', 'Simonal', 'Moacir Santos',\n",
        "                 'Caetano Veloso', 'Elza Soares', 'Paulinho da Viola', 'Yamandú Costa', 'Gal Costa']\n",
        "\n",
        "# Imprimindo a quantidade de elementos\n",
        "print(\"Quantidade de elementos:\", len(lista_musicos))\n",
        "\n",
        "# Imprimindo o dado salvo no índice 2\n",
        "print(\"Elemento no índice 2:\", lista_musicos[2])\n",
        "\n",
        "# Imprimindo o dado salvo no índice 9\n",
        "print(\"Elemento no índice 9:\", lista_musicos[9])\n",
        "\n",
        "# Imprimindo o dado salvo no índice 14\n",
        "print(\"Elemento no índice 14:\", lista_musicos[14])\n"
      ]
    }
  ]
}