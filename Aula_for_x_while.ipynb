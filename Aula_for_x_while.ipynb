{
  "nbformat": 4,
  "nbformat_minor": 0,
  "metadata": {
    "colab": {
      "provenance": [],
      "authorship_tag": "ABX9TyPSgUAo+As7vp8+DJOa/nnt",
      "include_colab_link": true
    },
    "kernelspec": {
      "name": "python3",
      "display_name": "Python 3"
    },
    "language_info": {
      "name": "python"
    }
  },
  "cells": [
    {
      "cell_type": "markdown",
      "metadata": {
        "id": "view-in-github",
        "colab_type": "text"
      },
      "source": [
        "<a href=\"https://colab.research.google.com/github/faanogueira/python.py/blob/main/Aula_for_x_while.ipynb\" target=\"_parent\"><img src=\"https://colab.research.google.com/assets/colab-badge.svg\" alt=\"Open In Colab\"/></a>"
      ]
    },
    {
      "cell_type": "code",
      "execution_count": null,
      "metadata": {
        "colab": {
          "base_uri": "https://localhost:8080/"
        },
        "id": "NfEJjWWsO07r",
        "outputId": "6e50e0f7-494e-4a49-ad28-4a64f436e867"
      },
      "outputs": [
        {
          "output_type": "stream",
          "name": "stdout",
          "text": [
            "Regue a planta 0\n",
            "Regue a planta 1\n",
            "Regue a planta 2\n",
            "Regue a planta 3\n",
            "Regue a planta 4\n",
            "Regue a planta 5\n"
          ]
        }
      ],
      "source": [
        "for i in range(6):\n",
        "  print(\"Regue a planta\", i)"
      ]
    },
    {
      "cell_type": "code",
      "source": [
        "i = 0\n",
        "while i < 6:\n",
        "  print(\"Regue a planta\", i)\n",
        "  i += 1"
      ],
      "metadata": {
        "colab": {
          "base_uri": "https://localhost:8080/"
        },
        "id": "zz_49evGPpOU",
        "outputId": "271bd0b5-289c-4ee6-dc98-156044fc158a"
      },
      "execution_count": null,
      "outputs": [
        {
          "output_type": "stream",
          "name": "stdout",
          "text": [
            "Regue a planta 0\n",
            "Regue a planta 1\n",
            "Regue a planta 2\n",
            "Regue a planta 3\n",
            "Regue a planta 4\n",
            "Regue a planta 5\n"
          ]
        }
      ]
    },
    {
      "cell_type": "code",
      "source": [
        "plantas = [\"tomate\", \"batata\", \"tomate\", \"batata\", \"tomate\", \"batata\"]\n",
        "for planta in plantas:\n",
        "  if planta == \"tomate\":\n",
        "    print(f\"Regue as plantas {planta}\")\n",
        "  else:\n",
        "    print(f\"A batata já foi regada ontem\")\n"
      ],
      "metadata": {
        "colab": {
          "base_uri": "https://localhost:8080/"
        },
        "id": "-aurhpHwSQHg",
        "outputId": "cf35a8f6-34d6-41a1-a1af-99c9023da460"
      },
      "execution_count": null,
      "outputs": [
        {
          "output_type": "stream",
          "name": "stdout",
          "text": [
            "Regue as plantas tomate\n",
            "A batata já foi regada ontem\n",
            "Regue as plantas tomate\n",
            "A batata já foi regada ontem\n",
            "Regue as plantas tomate\n",
            "A batata já foi regada ontem\n"
          ]
        }
      ]
    },
    {
      "cell_type": "code",
      "source": [
        "contador = 0\n",
        "while contador < 6:\n",
        "  if contador % 2 == 0:\n",
        "    print(\"O tomate ainda não foi regado\")\n",
        "  else:\n",
        "    print(\"A batata já foi regada\")\n",
        "  contador += 1\n"
      ],
      "metadata": {
        "colab": {
          "base_uri": "https://localhost:8080/"
        },
        "id": "nsy5eBz5VBjf",
        "outputId": "7b32fe72-f222-4c92-cd47-a34eeee2db3c"
      },
      "execution_count": null,
      "outputs": [
        {
          "output_type": "stream",
          "name": "stdout",
          "text": [
            "O tomate ainda não foi regado\n",
            "A batata já foi regada\n",
            "O tomate ainda não foi regado\n",
            "A batata já foi regada\n",
            "O tomate ainda não foi regado\n",
            "A batata já foi regada\n"
          ]
        }
      ]
    },
    {
      "cell_type": "code",
      "source": [
        "for i in range(6):\n",
        "  if(i % 2 != 0):\n",
        "    continue\n",
        "  print(\"Regue a planta\", i)"
      ],
      "metadata": {
        "colab": {
          "base_uri": "https://localhost:8080/"
        },
        "id": "pe5I6vDJX7IG",
        "outputId": "e49677e8-6f16-42ff-c21b-2f177784ae2c"
      },
      "execution_count": null,
      "outputs": [
        {
          "output_type": "stream",
          "name": "stdout",
          "text": [
            "Regue a planta 0\n",
            "Regue a planta 2\n",
            "Regue a planta 4\n"
          ]
        }
      ]
    },
    {
      "cell_type": "code",
      "source": [
        "for i in range(0,6,3):\n",
        "  print(\"Regue a planta\", i)"
      ],
      "metadata": {
        "colab": {
          "base_uri": "https://localhost:8080/"
        },
        "id": "QusQiDbvYwdY",
        "outputId": "ad299796-00c6-4c36-d248-ef21de5ec16f"
      },
      "execution_count": null,
      "outputs": [
        {
          "output_type": "stream",
          "name": "stdout",
          "text": [
            "Regue a planta 0\n",
            "Regue a planta 3\n"
          ]
        }
      ]
    }
  ]
}