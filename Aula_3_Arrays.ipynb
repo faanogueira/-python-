{
  "nbformat": 4,
  "nbformat_minor": 0,
  "metadata": {
    "colab": {
      "provenance": [],
      "authorship_tag": "ABX9TyPEI0xqXXgT/ltwtAJse6nV",
      "include_colab_link": true
    },
    "kernelspec": {
      "name": "python3",
      "display_name": "Python 3"
    },
    "language_info": {
      "name": "python"
    }
  },
  "cells": [
    {
      "cell_type": "markdown",
      "metadata": {
        "id": "view-in-github",
        "colab_type": "text"
      },
      "source": [
        "<a href=\"https://colab.research.google.com/github/faanogueira/python.py/blob/main/Aula_3_Arrays.ipynb\" target=\"_parent\"><img src=\"https://colab.research.google.com/assets/colab-badge.svg\" alt=\"Open In Colab\"/></a>"
      ]
    },
    {
      "cell_type": "markdown",
      "source": [
        "Uma nova loja de cosméticos abriu no seu bairro e pediram para você elaborar um sistema que imprime na tela na frente da loja os novos produtos que chegaram. O sistema da loja já tem um array com os produtos, você precisa apenas imprimir eles no terminal, um por um.\n",
        "\n",
        "Como desafio opcional, tente imprimir cada produto com a frase \"Temos [produto] à venda!\" (ex. \"Temos máscaras faciais à venda!\").\n",
        "\n",
        "lista_produtos = ['máscaras faciais', 'batons', 'esmaltes', 'perfumes', 'loções', 'xampus', 'sabonetes', 'delineadores']"
      ],
      "metadata": {
        "id": "GAhW-hXvA52Y"
      }
    },
    {
      "cell_type": "code",
      "execution_count": 1,
      "metadata": {
        "colab": {
          "base_uri": "https://localhost:8080/"
        },
        "id": "6YW7EvfKA0_l",
        "outputId": "2d8fdec9-e663-4d1d-84cc-b8b68dd9099c"
      },
      "outputs": [
        {
          "output_type": "stream",
          "name": "stdout",
          "text": [
            "Temos máscaras faciais à venda!\n",
            "Temos batons à venda!\n",
            "Temos esmaltes à venda!\n",
            "Temos perfumes à venda!\n",
            "Temos loções à venda!\n",
            "Temos xampus à venda!\n",
            "Temos sabonetes à venda!\n",
            "Temos delineadores à venda!\n"
          ]
        }
      ],
      "source": [
        "# Array de produtos da loja de cosméticos\n",
        "lista_produtos = ['máscaras faciais', 'batons', 'esmaltes', 'perfumes', 'loções', 'xampus', 'sabonetes', 'delineadores']\n",
        "\n",
        "# Imprimindo cada produto no terminal com a frase \"Temos [produto] à venda!\"\n",
        "for produto in lista_produtos:\n",
        "    print(f\"Temos {produto} à venda!\")\n"
      ]
    }
  ]
}