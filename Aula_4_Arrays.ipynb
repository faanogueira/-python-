{
  "nbformat": 4,
  "nbformat_minor": 0,
  "metadata": {
    "colab": {
      "provenance": [],
      "authorship_tag": "ABX9TyMQt/2vwaavEXWqgGdgt/ZO",
      "include_colab_link": true
    },
    "kernelspec": {
      "name": "python3",
      "display_name": "Python 3"
    },
    "language_info": {
      "name": "python"
    }
  },
  "cells": [
    {
      "cell_type": "markdown",
      "metadata": {
        "id": "view-in-github",
        "colab_type": "text"
      },
      "source": [
        "<a href=\"https://colab.research.google.com/github/faanogueira/python.py/blob/main/Aula_4_Arrays.ipynb\" target=\"_parent\"><img src=\"https://colab.research.google.com/assets/colab-badge.svg\" alt=\"Open In Colab\"/></a>"
      ]
    },
    {
      "cell_type": "markdown",
      "source": [
        "A loja de cosméticos ficou muito feliz com seu trabalho e chamaram você novamente! Dessa vez, eles precisam que você atualize o array de produtos. Agora, eles estão vendendo rímel ao invés de batons, e cremes hidratantes no lugar de loções. Além disso, ficaram sem delineadores, então precisam que você remova ele da lista de produtos. Imprima a nova lista no terminal para verificar que as alterações foram realizadas corretamente.\n",
        "\n",
        "lista_produtos = ['máscaras faciais', 'batons', 'esmaltes', 'perfumes', 'loções', 'xampus', 'sabonetes', 'delineadores']\n",
        "\n",
        "Como desafio, adicione dois novos produtos da sua escolha à lista."
      ],
      "metadata": {
        "id": "gIIU9lYwB8Ri"
      }
    },
    {
      "cell_type": "code",
      "execution_count": 1,
      "metadata": {
        "colab": {
          "base_uri": "https://localhost:8080/"
        },
        "id": "B0DZG3dEBznF",
        "outputId": "9f836784-2615-4c6f-eaed-956fdd69a615"
      },
      "outputs": [
        {
          "output_type": "stream",
          "name": "stdout",
          "text": [
            "Nova lista de produtos:\n",
            "Temos máscaras faciais à venda!\n",
            "Temos rímel à venda!\n",
            "Temos esmaltes à venda!\n",
            "Temos perfumes à venda!\n",
            "Temos cremes hidratantes à venda!\n",
            "Temos xampus à venda!\n",
            "Temos sabonetes à venda!\n",
            "Temos creme para as mãos à venda!\n",
            "Temos protetor solar à venda!\n"
          ]
        }
      ],
      "source": [
        "# Array de produtos da loja de cosméticos\n",
        "lista_produtos = ['máscaras faciais', 'batons', 'esmaltes', 'perfumes', 'loções', 'xampus', 'sabonetes', 'delineadores']\n",
        "\n",
        "# Atualizando a lista de produtos\n",
        "lista_produtos[1] = 'rímel'  # Substituindo 'batons' por 'rímel'\n",
        "lista_produtos[4] = 'cremes hidratantes'  # Substituindo 'loções' por 'cremes hidratantes'\n",
        "lista_produtos.remove('delineadores')  # Removendo 'delineadores'\n",
        "\n",
        "# Adicionando dois novos produtos\n",
        "lista_produtos.append('creme para as mãos')\n",
        "lista_produtos.append('protetor solar')\n",
        "\n",
        "# Imprimindo a nova lista de produtos\n",
        "print(\"Nova lista de produtos:\")\n",
        "for produto in lista_produtos:\n",
        "    print(f\"Temos {produto} à venda!\")\n"
      ]
    }
  ]
}