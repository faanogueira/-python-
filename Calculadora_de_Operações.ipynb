{
  "nbformat": 4,
  "nbformat_minor": 0,
  "metadata": {
    "colab": {
      "provenance": [],
      "authorship_tag": "ABX9TyO68Nh8GS1lgi6VN1YEy3dE",
      "include_colab_link": true
    },
    "kernelspec": {
      "name": "python3",
      "display_name": "Python 3"
    },
    "language_info": {
      "name": "python"
    }
  },
  "cells": [
    {
      "cell_type": "markdown",
      "metadata": {
        "id": "view-in-github",
        "colab_type": "text"
      },
      "source": [
        "<a href=\"https://colab.research.google.com/github/faanogueira/python.py/blob/main/Calculadora_de_Opera%C3%A7%C3%B5es.ipynb\" target=\"_parent\"><img src=\"https://colab.research.google.com/assets/colab-badge.svg\" alt=\"Open In Colab\"/></a>"
      ]
    },
    {
      "cell_type": "code",
      "execution_count": 4,
      "metadata": {
        "colab": {
          "base_uri": "https://localhost:8080/"
        },
        "id": "obXBQmdCcM7O",
        "outputId": "cbf47f74-ae8a-446e-b59c-1c3a3871ce97"
      },
      "outputs": [
        {
          "output_type": "stream",
          "name": "stdout",
          "text": [
            "Digite o primeiro número: 6\n",
            "Digite o segundo número: 3\n",
            "Escolha a operação (1: Soma, 2: Subtração, 3: Multiplicação, 4: Divisão): 4\n",
            "Resultado: 2.0\n"
          ]
        }
      ],
      "source": [
        "def calculadora(num1, num2, operacao):\n",
        "    if operacao == 1:\n",
        "        return num1 + num2\n",
        "    elif operacao == 2:\n",
        "        return num1 - num2\n",
        "    elif operacao == 3:\n",
        "        return num1 * num2\n",
        "    elif operacao == 4:\n",
        "        return num1 / num2 if num2 != 0 else \"Erro: Divisão por zero\"\n",
        "    else:\n",
        "        return 0\n",
        "\n",
        "# Exemplo de uso com input para a operação\n",
        "num1 = float(input(\"Digite o primeiro número: \"))\n",
        "num2 = float(input(\"Digite o segundo número: \"))\n",
        "operacao = int(input(\"Escolha a operação (1: Soma, 2: Subtração, 3: Multiplicação, 4: Divisão): \"))\n",
        "\n",
        "resultado = calculadora(num1, num2, operacao)\n",
        "print(f'Resultado: {resultado}')\n"
      ]
    }
  ]
}