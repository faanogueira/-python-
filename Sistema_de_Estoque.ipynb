{
  "nbformat": 4,
  "nbformat_minor": 0,
  "metadata": {
    "colab": {
      "provenance": [],
      "authorship_tag": "ABX9TyOfVxjoO5qCWv+358YJHp7c",
      "include_colab_link": true
    },
    "kernelspec": {
      "name": "python3",
      "display_name": "Python 3"
    },
    "language_info": {
      "name": "python"
    }
  },
  "cells": [
    {
      "cell_type": "markdown",
      "metadata": {
        "id": "view-in-github",
        "colab_type": "text"
      },
      "source": [
        "<a href=\"https://colab.research.google.com/github/faanogueira/python.py/blob/main/Sistema_de_Estoque.ipynb\" target=\"_parent\"><img src=\"https://colab.research.google.com/assets/colab-badge.svg\" alt=\"Open In Colab\"/></a>"
      ]
    },
    {
      "cell_type": "markdown",
      "source": [
        "## Pedido do cliente\n",
        "O dono de uma loja entra em contato com você com a seguinte situação:\n",
        "\n",
        "“Boa tarde,\n",
        "Estamos modernizando nossa loja e precisamos de um novo sistema de controle de estoque. Geralmente anotamos todos os produtos que temos disponíveis, e quando um dos produtos acaba, substituímos ele por algum outro produto.\n",
        "Ouvi dizer que vocês podem fazer um sistema para a gente que mostra a lista com todos nossos produtos, e nos deixa alterar um produto por outro.\n",
        "Além disso, estamos pensando em ampliar nosso armazém, para ter mais espaço para mais produtos. Então, se puderem fazer com que o sistema nos permita adicionar mais produtos à lista, e qualquer outra coisa que acharem necessário, seria muito bom.\n",
        "\n",
        "Desde já, agradeço!”"
      ],
      "metadata": {
        "id": "87nJMd2Pi5UU"
      }
    },
    {
      "cell_type": "code",
      "source": [
        "def mostrar_produtos(produtos):\n",
        "    print(\"\\nLista de Produtos:\")\n",
        "    for i, produto in enumerate(produtos):\n",
        "        print(f\"{i}: {produto}\")\n",
        "\n",
        "def adicionar_produto(produtos):\n",
        "    novo_produto = input(\"Digite o nome do novo produto: \")\n",
        "    produtos.append(novo_produto)\n",
        "    print(f\"Produto '{novo_produto}' adicionado com sucesso!\")\n",
        "\n",
        "def alterar_produto(produtos):\n",
        "    mostrar_produtos(produtos)\n",
        "    try:\n",
        "        indice = int(input(\"Digite o índice do produto que deseja alterar: \"))\n",
        "        if 0 <= indice < len(produtos):\n",
        "            novo_produto = input(\"Digite o novo nome do produto: \")\n",
        "            produtos[indice] = novo_produto\n",
        "            print(f\"Produto na posição {indice} alterado para '{novo_produto}' com sucesso!\")\n",
        "        else:\n",
        "            print(\"Índice inválido.\")\n",
        "    except ValueError:\n",
        "        print(\"Erro: Por favor, insira um número válido.\")\n",
        "\n",
        "def sistema_estoque():\n",
        "    produtos = [\"Arroz\", \"Feijão\", \"Macarrão\", \"Açúcar\"]\n",
        "\n",
        "    while True:\n",
        "        print(\"\\nMenu de Controle de Estoque:\")\n",
        "        print(\"1: Mostrar produtos\")\n",
        "        print(\"2: Adicionar produto\")\n",
        "        print(\"3: Alterar produto\")\n",
        "        print(\"0: Sair\")\n",
        "\n",
        "        opcao = input(\"Digite o número para a operação correspondente: \")\n",
        "\n",
        "        if opcao == '0':\n",
        "            print(\"Saindo...\")\n",
        "            break\n",
        "        elif opcao == '1':\n",
        "            mostrar_produtos(produtos)\n",
        "        elif opcao == '2':\n",
        "            adicionar_produto(produtos)\n",
        "        elif opcao == '3':\n",
        "            alterar_produto(produtos)\n",
        "        else:\n",
        "            print(\"Essa opção não existe.\")\n",
        "\n",
        "sistema_estoque()\n"
      ],
      "metadata": {
        "colab": {
          "base_uri": "https://localhost:8080/"
        },
        "id": "pf5PFjJ8i74m",
        "outputId": "145afc15-cd49-47d2-b7c6-2be70bbb9ed6"
      },
      "execution_count": 2,
      "outputs": [
        {
          "output_type": "stream",
          "name": "stdout",
          "text": [
            "\n",
            "Menu de Controle de Estoque:\n",
            "1: Mostrar produtos\n",
            "2: Adicionar produto\n",
            "3: Alterar produto\n",
            "0: Sair\n",
            "Digite o número para a operação correspondente: 0\n",
            "Saindo...\n"
          ]
        }
      ]
    },
    {
      "cell_type": "code",
      "source": [],
      "metadata": {
        "id": "7xUT246KjnT0"
      },
      "execution_count": null,
      "outputs": []
    }
  ]
}