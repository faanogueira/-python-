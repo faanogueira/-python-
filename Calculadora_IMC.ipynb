{
  "nbformat": 4,
  "nbformat_minor": 0,
  "metadata": {
    "colab": {
      "provenance": [],
      "authorship_tag": "ABX9TyMz1XaOh3npiyyJ5LphbRE2",
      "include_colab_link": true
    },
    "kernelspec": {
      "name": "python3",
      "display_name": "Python 3"
    },
    "language_info": {
      "name": "python"
    }
  },
  "cells": [
    {
      "cell_type": "markdown",
      "metadata": {
        "id": "view-in-github",
        "colab_type": "text"
      },
      "source": [
        "<a href=\"https://colab.research.google.com/github/faanogueira/python.py/blob/main/Calculadora_IMC.ipynb\" target=\"_parent\"><img src=\"https://colab.research.google.com/assets/colab-badge.svg\" alt=\"Open In Colab\"/></a>"
      ]
    },
    {
      "cell_type": "code",
      "execution_count": 8,
      "metadata": {
        "colab": {
          "base_uri": "https://localhost:8080/"
        },
        "id": "84ZZNHJBGimd",
        "outputId": "4ae7e8fd-d7f0-4d4b-90d8-0e873381d7fa"
      },
      "outputs": [
        {
          "output_type": "stream",
          "name": "stdout",
          "text": [
            "Saudavel\n"
          ]
        }
      ],
      "source": [
        "def calculadoraImc(peso, altura):\n",
        "\n",
        "     imc = peso/(altura*altura) * 10000\n",
        "\n",
        "     if (imc <= 18.5): return \"Magreza\"\n",
        "\n",
        "     elif (imc > 18.5) and (imc <= 24.9): return \"Saudavel\"\n",
        "\n",
        "     elif (imc >= 25) and (imc <= 29.9): return \"Sobrepeso\"\n",
        "\n",
        "     elif (imc > 30) and (imc <= 34.9): return \"Obesidade grau 1\"\n",
        "\n",
        "     elif (imc > 35) and (imc <= 39.9): return \"Obesidade severa grau 2\"\n",
        "\n",
        "     else : return \"Obesidade morbida grau 3\"\n",
        "\n",
        "peso = 82\n",
        "\n",
        "altura = 182\n",
        "\n",
        "resultado = calculadoraImc(peso,altura)\n",
        "\n",
        "print(resultado)"
      ]
    }
  ]
}