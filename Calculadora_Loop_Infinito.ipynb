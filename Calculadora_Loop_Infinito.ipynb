{
  "nbformat": 4,
  "nbformat_minor": 0,
  "metadata": {
    "colab": {
      "provenance": [],
      "authorship_tag": "ABX9TyPlWC8JCNfAvj2Q8LKIeZrP",
      "include_colab_link": true
    },
    "kernelspec": {
      "name": "python3",
      "display_name": "Python 3"
    },
    "language_info": {
      "name": "python"
    }
  },
  "cells": [
    {
      "cell_type": "markdown",
      "metadata": {
        "id": "view-in-github",
        "colab_type": "text"
      },
      "source": [
        "<a href=\"https://colab.research.google.com/github/faanogueira/python.py/blob/main/Calculadora_Loop_Infinito.ipynb\" target=\"_parent\"><img src=\"https://colab.research.google.com/assets/colab-badge.svg\" alt=\"Open In Colab\"/></a>"
      ]
    },
    {
      "cell_type": "markdown",
      "source": [],
      "metadata": {
        "id": "LX0GPVDXfT6j"
      }
    },
    {
      "cell_type": "markdown",
      "source": [
        "Faça uma função calculadora que os números e as operações serão feitas pelo usuário. O código deve ficar rodando infinitamente até que o usuário escolha a opção de sair. No início, o programa mostrará a seguinte lista de operações:\n",
        "\n",
        "1: Soma\n",
        "2: Subtração\n",
        "3: Multiplicação\n",
        "4: Divisão\n",
        "0: Sair\n",
        "\n",
        "Digite o número para a operação correspondente e caso o usuário introduza qualquer outro, o sistema deve mostrar a mensagem “Essa opção não existe” e voltar ao menu de opções.\n",
        "\n",
        "Após a seleção, o sistema deve pedir para o usuário inserir o primeiro e segundo valor, um de cada. Depois precisa executar a operação e mostrar o resultado na tela. Quando o usuário escolher a opção “Sair”, o sistema irá parar.\n",
        "\n",
        "É necessário que o sistema mostre as opções sempre que finalizar uma operação e mostrar o resultado."
      ],
      "metadata": {
        "id": "BtyjVGx2epbJ"
      }
    },
    {
      "cell_type": "code",
      "execution_count": null,
      "metadata": {
        "id": "-sG7fx51fTCA"
      },
      "outputs": [],
      "source": [
        "def calculadora():\n",
        "    while True:\n",
        "        print(\"\\nEscolha a operação:\")\n",
        "        print(\"1: Soma\")\n",
        "        print(\"2: Subtração\")\n",
        "        print(\"3: Multiplicação\")\n",
        "        print(\"4: Divisão\")\n",
        "        print(\"0: Sair\")\n",
        "\n",
        "        opcao = input(\"Digite o número para a operação correspondente: \")\n",
        "\n",
        "        if opcao == '0':\n",
        "            print(\"Saindo...\")\n",
        "            break\n",
        "        elif opcao in ['1', '2', '3', '4']:\n",
        "            try:\n",
        "                num1 = float(input(\"Digite o primeiro valor: \"))\n",
        "                num2 = float(input(\"Digite o segundo valor: \"))\n",
        "\n",
        "                if opcao == '1':\n",
        "                    resultado = num1 + num2\n",
        "                    print(f\"Resultado da soma: {resultado}\")\n",
        "                elif opcao == '2':\n",
        "                    resultado = num1 - num2\n",
        "                    print(f\"Resultado da subtração: {resultado}\")\n",
        "                elif opcao == '3':\n",
        "                    resultado = num1 * num2\n",
        "                    print(f\"Resultado da multiplicação: {resultado}\")\n",
        "                elif opcao == '4':\n",
        "                    if num2 != 0:\n",
        "                        resultado = num1 / num2\n",
        "                        print(f\"Resultado da divisão: {resultado}\")\n",
        "                    else:\n",
        "                        print(\"Erro: Divisão por zero não é permitida.\")\n",
        "            except ValueError:\n",
        "                print(\"Erro: Por favor, insira valores numéricos válidos.\")\n",
        "        else:\n",
        "            print(\"Essa opção não existe.\")\n",
        "\n",
        "calculadora()"
      ]
    }
  ]
}