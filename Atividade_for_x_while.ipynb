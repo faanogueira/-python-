{
  "nbformat": 4,
  "nbformat_minor": 0,
  "metadata": {
    "colab": {
      "provenance": [],
      "authorship_tag": "ABX9TyMqlNJG8f6AoZd3QxOvE7vK",
      "include_colab_link": true
    },
    "kernelspec": {
      "name": "python3",
      "display_name": "Python 3"
    },
    "language_info": {
      "name": "python"
    }
  },
  "cells": [
    {
      "cell_type": "markdown",
      "metadata": {
        "id": "view-in-github",
        "colab_type": "text"
      },
      "source": [
        "<a href=\"https://colab.research.google.com/github/faanogueira/python.py/blob/main/Atividade_for_x_while.ipynb\" target=\"_parent\"><img src=\"https://colab.research.google.com/assets/colab-badge.svg\" alt=\"Open In Colab\"/></a>"
      ]
    },
    {
      "cell_type": "markdown",
      "source": [
        "Precisamos imprimir um número para cada andar de um hotel de 20 andares. Porém, o dono do hotel é supersticioso e optou por não ter um 13ro andar. Escreva um código que imprima todos os números exceto o número 13."
      ],
      "metadata": {
        "id": "OQc-fygiAz5Q"
      }
    },
    {
      "cell_type": "markdown",
      "source": [
        "Usando *for*"
      ],
      "metadata": {
        "id": "fLfvbZ19BYOi"
      }
    },
    {
      "cell_type": "code",
      "source": [
        "for andar in range(20, 0, -1):\n",
        "    if andar == 13:\n",
        "        continue\n",
        "    print(andar)"
      ],
      "metadata": {
        "colab": {
          "base_uri": "https://localhost:8080/"
        },
        "id": "GEG1qUnwBLTz",
        "outputId": "30226a09-c395-4076-a4e6-ed3920d5afc2"
      },
      "execution_count": 1,
      "outputs": [
        {
          "output_type": "stream",
          "name": "stdout",
          "text": [
            "20\n",
            "19\n",
            "18\n",
            "17\n",
            "16\n",
            "15\n",
            "14\n",
            "12\n",
            "11\n",
            "10\n",
            "9\n",
            "8\n",
            "7\n",
            "6\n",
            "5\n",
            "4\n",
            "3\n",
            "2\n",
            "1\n"
          ]
        }
      ]
    },
    {
      "cell_type": "markdown",
      "source": [
        "Usando *while*"
      ],
      "metadata": {
        "id": "TwzjFSrlBgS6"
      }
    },
    {
      "cell_type": "code",
      "source": [
        "andar = 20\n",
        "while andar > 0:\n",
        "    if andar != 13:\n",
        "        print(andar)\n",
        "    andar -= 1\n"
      ],
      "metadata": {
        "colab": {
          "base_uri": "https://localhost:8080/"
        },
        "id": "90HCfEJbBjTw",
        "outputId": "dd00c417-8a22-4d28-88c7-c42df4226c0f"
      },
      "execution_count": 2,
      "outputs": [
        {
          "output_type": "stream",
          "name": "stdout",
          "text": [
            "20\n",
            "19\n",
            "18\n",
            "17\n",
            "16\n",
            "15\n",
            "14\n",
            "12\n",
            "11\n",
            "10\n",
            "9\n",
            "8\n",
            "7\n",
            "6\n",
            "5\n",
            "4\n",
            "3\n",
            "2\n",
            "1\n"
          ]
        }
      ]
    },
    {
      "cell_type": "markdown",
      "source": [
        "Usando *do-while*"
      ],
      "metadata": {
        "id": "CO-k_gSNB5HA"
      }
    },
    {
      "cell_type": "code",
      "source": [
        "andar = 20\n",
        "while True:\n",
        "    if andar != 13:\n",
        "        print(andar)\n",
        "    andar -= 1\n",
        "    if andar == 0:\n",
        "        break\n"
      ],
      "metadata": {
        "colab": {
          "base_uri": "https://localhost:8080/"
        },
        "id": "kKmh0mwRBtmo",
        "outputId": "3cbc57fa-afd5-4f42-e40b-d126c02dcc1e"
      },
      "execution_count": 3,
      "outputs": [
        {
          "output_type": "stream",
          "name": "stdout",
          "text": [
            "20\n",
            "19\n",
            "18\n",
            "17\n",
            "16\n",
            "15\n",
            "14\n",
            "12\n",
            "11\n",
            "10\n",
            "9\n",
            "8\n",
            "7\n",
            "6\n",
            "5\n",
            "4\n",
            "3\n",
            "2\n",
            "1\n"
          ]
        }
      ]
    }
  ]
}